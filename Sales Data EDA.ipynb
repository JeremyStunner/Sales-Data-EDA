{
 "cells": [
  {
   "cell_type": "code",
   "execution_count": 1,
   "id": "0c55c5f1",
   "metadata": {},
   "outputs": [],
   "source": [
    "import pandas as pd\n",
    "import numpy as np\n",
    "import matplotlib.pyplot as plt\n",
    "import seaborn as sns"
   ]
  },
  {
   "cell_type": "code",
   "execution_count": 15,
   "id": "2160dba0",
   "metadata": {},
   "outputs": [],
   "source": [
    "sales = pd.read_csv('salesdata.csv')"
   ]
  },
  {
   "cell_type": "code",
   "execution_count": 16,
   "id": "469f756f",
   "metadata": {},
   "outputs": [
    {
     "data": {
      "text/html": [
       "<div>\n",
       "<style scoped>\n",
       "    .dataframe tbody tr th:only-of-type {\n",
       "        vertical-align: middle;\n",
       "    }\n",
       "\n",
       "    .dataframe tbody tr th {\n",
       "        vertical-align: top;\n",
       "    }\n",
       "\n",
       "    .dataframe thead th {\n",
       "        text-align: right;\n",
       "    }\n",
       "</style>\n",
       "<table border=\"1\" class=\"dataframe\">\n",
       "  <thead>\n",
       "    <tr style=\"text-align: right;\">\n",
       "      <th></th>\n",
       "      <th>order_id</th>\n",
       "      <th>quantity</th>\n",
       "      <th>item_name</th>\n",
       "      <th>choice_description</th>\n",
       "      <th>item_price</th>\n",
       "    </tr>\n",
       "  </thead>\n",
       "  <tbody>\n",
       "    <tr>\n",
       "      <th>0</th>\n",
       "      <td>1</td>\n",
       "      <td>1</td>\n",
       "      <td>Izze</td>\n",
       "      <td>[Clementine]</td>\n",
       "      <td>$3.39</td>\n",
       "    </tr>\n",
       "    <tr>\n",
       "      <th>1</th>\n",
       "      <td>1</td>\n",
       "      <td>1</td>\n",
       "      <td>Nantucket Nectar</td>\n",
       "      <td>[Apple]</td>\n",
       "      <td>$3.39</td>\n",
       "    </tr>\n",
       "    <tr>\n",
       "      <th>2</th>\n",
       "      <td>2</td>\n",
       "      <td>2</td>\n",
       "      <td>Chicken Bowl</td>\n",
       "      <td>[Tomatillo-Red Chili Salsa (Hot), [Black Beans...</td>\n",
       "      <td>$16.98</td>\n",
       "    </tr>\n",
       "    <tr>\n",
       "      <th>3</th>\n",
       "      <td>3</td>\n",
       "      <td>1</td>\n",
       "      <td>Chicken Bowl</td>\n",
       "      <td>[Fresh Tomato Salsa (Mild), [Rice, Cheese, Sou...</td>\n",
       "      <td>$10.98</td>\n",
       "    </tr>\n",
       "    <tr>\n",
       "      <th>4</th>\n",
       "      <td>4</td>\n",
       "      <td>1</td>\n",
       "      <td>Steak Burrito</td>\n",
       "      <td>[Tomatillo Red Chili Salsa, [Fajita Vegetables...</td>\n",
       "      <td>$11.75</td>\n",
       "    </tr>\n",
       "    <tr>\n",
       "      <th>...</th>\n",
       "      <td>...</td>\n",
       "      <td>...</td>\n",
       "      <td>...</td>\n",
       "      <td>...</td>\n",
       "      <td>...</td>\n",
       "    </tr>\n",
       "    <tr>\n",
       "      <th>195</th>\n",
       "      <td>115</td>\n",
       "      <td>1</td>\n",
       "      <td>Steak Burrito</td>\n",
       "      <td>[Roasted Chili Corn Salsa (Medium), [Black Bea...</td>\n",
       "      <td>$8.99</td>\n",
       "    </tr>\n",
       "    <tr>\n",
       "      <th>196</th>\n",
       "      <td>116</td>\n",
       "      <td>1</td>\n",
       "      <td>Steak Soft Tacos</td>\n",
       "      <td>[Fresh Tomato Salsa, [Rice, Cheese, Lettuce]]</td>\n",
       "      <td>$9.25</td>\n",
       "    </tr>\n",
       "    <tr>\n",
       "      <th>197</th>\n",
       "      <td>117</td>\n",
       "      <td>1</td>\n",
       "      <td>Barbacoa Soft Tacos</td>\n",
       "      <td>[Tomatillo-Red Chili Salsa (Hot), [Pinto Beans...</td>\n",
       "      <td>$8.99</td>\n",
       "    </tr>\n",
       "    <tr>\n",
       "      <th>198</th>\n",
       "      <td>118</td>\n",
       "      <td>1</td>\n",
       "      <td>Chicken Burrito</td>\n",
       "      <td>[Tomatillo-Green Chili Salsa (Medium), [Pinto ...</td>\n",
       "      <td>$8.49</td>\n",
       "    </tr>\n",
       "    <tr>\n",
       "      <th>199</th>\n",
       "      <td>119</td>\n",
       "      <td>1</td>\n",
       "      <td>Chicken Burrito</td>\n",
       "      <td>[[Fresh Tomato Salsa (Mild), Roasted Chili Cor...</td>\n",
       "      <td>$8.49</td>\n",
       "    </tr>\n",
       "  </tbody>\n",
       "</table>\n",
       "<p>200 rows × 5 columns</p>\n",
       "</div>"
      ],
      "text/plain": [
       "     order_id  quantity            item_name  \\\n",
       "0           1         1                 Izze   \n",
       "1           1         1     Nantucket Nectar   \n",
       "2           2         2         Chicken Bowl   \n",
       "3           3         1         Chicken Bowl   \n",
       "4           4         1        Steak Burrito   \n",
       "..        ...       ...                  ...   \n",
       "195       115         1        Steak Burrito   \n",
       "196       116         1     Steak Soft Tacos   \n",
       "197       117         1  Barbacoa Soft Tacos   \n",
       "198       118         1      Chicken Burrito   \n",
       "199       119         1      Chicken Burrito   \n",
       "\n",
       "                                    choice_description item_price  \n",
       "0                                         [Clementine]     $3.39   \n",
       "1                                              [Apple]     $3.39   \n",
       "2    [Tomatillo-Red Chili Salsa (Hot), [Black Beans...    $16.98   \n",
       "3    [Fresh Tomato Salsa (Mild), [Rice, Cheese, Sou...    $10.98   \n",
       "4    [Tomatillo Red Chili Salsa, [Fajita Vegetables...    $11.75   \n",
       "..                                                 ...        ...  \n",
       "195  [Roasted Chili Corn Salsa (Medium), [Black Bea...     $8.99   \n",
       "196      [Fresh Tomato Salsa, [Rice, Cheese, Lettuce]]     $9.25   \n",
       "197  [Tomatillo-Red Chili Salsa (Hot), [Pinto Beans...     $8.99   \n",
       "198  [Tomatillo-Green Chili Salsa (Medium), [Pinto ...     $8.49   \n",
       "199  [[Fresh Tomato Salsa (Mild), Roasted Chili Cor...     $8.49   \n",
       "\n",
       "[200 rows x 5 columns]"
      ]
     },
     "execution_count": 16,
     "metadata": {},
     "output_type": "execute_result"
    }
   ],
   "source": [
    "sales"
   ]
  },
  {
   "cell_type": "code",
   "execution_count": 6,
   "id": "43a54de1",
   "metadata": {},
   "outputs": [
    {
     "name": "stdout",
     "output_type": "stream",
     "text": [
      "<class 'pandas.core.frame.DataFrame'>\n",
      "RangeIndex: 200 entries, 0 to 199\n",
      "Data columns (total 5 columns):\n",
      " #   Column              Non-Null Count  Dtype \n",
      "---  ------              --------------  ----- \n",
      " 0   order_id            200 non-null    int64 \n",
      " 1   quantity            200 non-null    int64 \n",
      " 2   item_name           200 non-null    object\n",
      " 3   choice_description  200 non-null    object\n",
      " 4   item_price          200 non-null    object\n",
      "dtypes: int64(2), object(3)\n",
      "memory usage: 7.9+ KB\n"
     ]
    }
   ],
   "source": [
    "sales.info()"
   ]
  },
  {
   "cell_type": "code",
   "execution_count": 7,
   "id": "79bce0b7",
   "metadata": {},
   "outputs": [
    {
     "data": {
      "text/plain": [
       "order_id              0\n",
       "quantity              0\n",
       "item_name             0\n",
       "choice_description    0\n",
       "item_price            0\n",
       "dtype: int64"
      ]
     },
     "execution_count": 7,
     "metadata": {},
     "output_type": "execute_result"
    }
   ],
   "source": [
    "sales.isna().sum()"
   ]
  },
  {
   "cell_type": "code",
   "execution_count": 8,
   "id": "b66dfea0",
   "metadata": {},
   "outputs": [
    {
     "data": {
      "text/html": [
       "<div>\n",
       "<style scoped>\n",
       "    .dataframe tbody tr th:only-of-type {\n",
       "        vertical-align: middle;\n",
       "    }\n",
       "\n",
       "    .dataframe tbody tr th {\n",
       "        vertical-align: top;\n",
       "    }\n",
       "\n",
       "    .dataframe thead th {\n",
       "        text-align: right;\n",
       "    }\n",
       "</style>\n",
       "<table border=\"1\" class=\"dataframe\">\n",
       "  <thead>\n",
       "    <tr style=\"text-align: right;\">\n",
       "      <th></th>\n",
       "      <th>order_id</th>\n",
       "      <th>quantity</th>\n",
       "    </tr>\n",
       "  </thead>\n",
       "  <tbody>\n",
       "    <tr>\n",
       "      <th>count</th>\n",
       "      <td>200.000000</td>\n",
       "      <td>200.000000</td>\n",
       "    </tr>\n",
       "    <tr>\n",
       "      <th>mean</th>\n",
       "      <td>62.025000</td>\n",
       "      <td>1.060000</td>\n",
       "    </tr>\n",
       "    <tr>\n",
       "      <th>std</th>\n",
       "      <td>34.527163</td>\n",
       "      <td>0.238083</td>\n",
       "    </tr>\n",
       "    <tr>\n",
       "      <th>min</th>\n",
       "      <td>1.000000</td>\n",
       "      <td>1.000000</td>\n",
       "    </tr>\n",
       "    <tr>\n",
       "      <th>25%</th>\n",
       "      <td>30.750000</td>\n",
       "      <td>1.000000</td>\n",
       "    </tr>\n",
       "    <tr>\n",
       "      <th>50%</th>\n",
       "      <td>64.500000</td>\n",
       "      <td>1.000000</td>\n",
       "    </tr>\n",
       "    <tr>\n",
       "      <th>75%</th>\n",
       "      <td>92.250000</td>\n",
       "      <td>1.000000</td>\n",
       "    </tr>\n",
       "    <tr>\n",
       "      <th>max</th>\n",
       "      <td>119.000000</td>\n",
       "      <td>2.000000</td>\n",
       "    </tr>\n",
       "  </tbody>\n",
       "</table>\n",
       "</div>"
      ],
      "text/plain": [
       "         order_id    quantity\n",
       "count  200.000000  200.000000\n",
       "mean    62.025000    1.060000\n",
       "std     34.527163    0.238083\n",
       "min      1.000000    1.000000\n",
       "25%     30.750000    1.000000\n",
       "50%     64.500000    1.000000\n",
       "75%     92.250000    1.000000\n",
       "max    119.000000    2.000000"
      ]
     },
     "execution_count": 8,
     "metadata": {},
     "output_type": "execute_result"
    }
   ],
   "source": [
    "sales.describe()"
   ]
  },
  {
   "cell_type": "code",
   "execution_count": 18,
   "id": "e1aed9d9",
   "metadata": {},
   "outputs": [],
   "source": [
    "# changing the item_price to a float from object. so it can be used for calculations\n",
    "sales['item_price'] = sales['item_price'].replace('[\\$\\,]', '', regex = True).astype(float)"
   ]
  },
  {
   "cell_type": "code",
   "execution_count": 19,
   "id": "91228880",
   "metadata": {},
   "outputs": [
    {
     "data": {
      "text/html": [
       "<div>\n",
       "<style scoped>\n",
       "    .dataframe tbody tr th:only-of-type {\n",
       "        vertical-align: middle;\n",
       "    }\n",
       "\n",
       "    .dataframe tbody tr th {\n",
       "        vertical-align: top;\n",
       "    }\n",
       "\n",
       "    .dataframe thead th {\n",
       "        text-align: right;\n",
       "    }\n",
       "</style>\n",
       "<table border=\"1\" class=\"dataframe\">\n",
       "  <thead>\n",
       "    <tr style=\"text-align: right;\">\n",
       "      <th></th>\n",
       "      <th>order_id</th>\n",
       "      <th>quantity</th>\n",
       "      <th>item_name</th>\n",
       "      <th>choice_description</th>\n",
       "      <th>item_price</th>\n",
       "    </tr>\n",
       "  </thead>\n",
       "  <tbody>\n",
       "    <tr>\n",
       "      <th>0</th>\n",
       "      <td>1</td>\n",
       "      <td>1</td>\n",
       "      <td>Izze</td>\n",
       "      <td>[Clementine]</td>\n",
       "      <td>3.39</td>\n",
       "    </tr>\n",
       "    <tr>\n",
       "      <th>1</th>\n",
       "      <td>1</td>\n",
       "      <td>1</td>\n",
       "      <td>Nantucket Nectar</td>\n",
       "      <td>[Apple]</td>\n",
       "      <td>3.39</td>\n",
       "    </tr>\n",
       "    <tr>\n",
       "      <th>2</th>\n",
       "      <td>2</td>\n",
       "      <td>2</td>\n",
       "      <td>Chicken Bowl</td>\n",
       "      <td>[Tomatillo-Red Chili Salsa (Hot), [Black Beans...</td>\n",
       "      <td>16.98</td>\n",
       "    </tr>\n",
       "    <tr>\n",
       "      <th>3</th>\n",
       "      <td>3</td>\n",
       "      <td>1</td>\n",
       "      <td>Chicken Bowl</td>\n",
       "      <td>[Fresh Tomato Salsa (Mild), [Rice, Cheese, Sou...</td>\n",
       "      <td>10.98</td>\n",
       "    </tr>\n",
       "    <tr>\n",
       "      <th>4</th>\n",
       "      <td>4</td>\n",
       "      <td>1</td>\n",
       "      <td>Steak Burrito</td>\n",
       "      <td>[Tomatillo Red Chili Salsa, [Fajita Vegetables...</td>\n",
       "      <td>11.75</td>\n",
       "    </tr>\n",
       "    <tr>\n",
       "      <th>5</th>\n",
       "      <td>4</td>\n",
       "      <td>1</td>\n",
       "      <td>Steak Soft Tacos</td>\n",
       "      <td>[Tomatillo Green Chili Salsa, [Pinto Beans, Ch...</td>\n",
       "      <td>9.25</td>\n",
       "    </tr>\n",
       "    <tr>\n",
       "      <th>6</th>\n",
       "      <td>5</td>\n",
       "      <td>1</td>\n",
       "      <td>Steak Burrito</td>\n",
       "      <td>[Fresh Tomato Salsa, [Rice, Black Beans, Pinto...</td>\n",
       "      <td>9.25</td>\n",
       "    </tr>\n",
       "    <tr>\n",
       "      <th>7</th>\n",
       "      <td>6</td>\n",
       "      <td>1</td>\n",
       "      <td>Chicken Crispy Tacos</td>\n",
       "      <td>[Roasted Chili Corn Salsa, [Fajita Vegetables,...</td>\n",
       "      <td>8.75</td>\n",
       "    </tr>\n",
       "    <tr>\n",
       "      <th>8</th>\n",
       "      <td>6</td>\n",
       "      <td>1</td>\n",
       "      <td>Chicken Soft Tacos</td>\n",
       "      <td>[Roasted Chili Corn Salsa, [Rice, Black Beans,...</td>\n",
       "      <td>8.75</td>\n",
       "    </tr>\n",
       "    <tr>\n",
       "      <th>9</th>\n",
       "      <td>7</td>\n",
       "      <td>1</td>\n",
       "      <td>Chicken Bowl</td>\n",
       "      <td>[Fresh Tomato Salsa, [Fajita Vegetables, Rice,...</td>\n",
       "      <td>11.25</td>\n",
       "    </tr>\n",
       "  </tbody>\n",
       "</table>\n",
       "</div>"
      ],
      "text/plain": [
       "   order_id  quantity             item_name  \\\n",
       "0         1         1                  Izze   \n",
       "1         1         1      Nantucket Nectar   \n",
       "2         2         2          Chicken Bowl   \n",
       "3         3         1          Chicken Bowl   \n",
       "4         4         1         Steak Burrito   \n",
       "5         4         1      Steak Soft Tacos   \n",
       "6         5         1         Steak Burrito   \n",
       "7         6         1  Chicken Crispy Tacos   \n",
       "8         6         1    Chicken Soft Tacos   \n",
       "9         7         1          Chicken Bowl   \n",
       "\n",
       "                                  choice_description  item_price  \n",
       "0                                       [Clementine]        3.39  \n",
       "1                                            [Apple]        3.39  \n",
       "2  [Tomatillo-Red Chili Salsa (Hot), [Black Beans...       16.98  \n",
       "3  [Fresh Tomato Salsa (Mild), [Rice, Cheese, Sou...       10.98  \n",
       "4  [Tomatillo Red Chili Salsa, [Fajita Vegetables...       11.75  \n",
       "5  [Tomatillo Green Chili Salsa, [Pinto Beans, Ch...        9.25  \n",
       "6  [Fresh Tomato Salsa, [Rice, Black Beans, Pinto...        9.25  \n",
       "7  [Roasted Chili Corn Salsa, [Fajita Vegetables,...        8.75  \n",
       "8  [Roasted Chili Corn Salsa, [Rice, Black Beans,...        8.75  \n",
       "9  [Fresh Tomato Salsa, [Fajita Vegetables, Rice,...       11.25  "
      ]
     },
     "execution_count": 19,
     "metadata": {},
     "output_type": "execute_result"
    }
   ],
   "source": [
    "sales.head(10)"
   ]
  },
  {
   "cell_type": "code",
   "execution_count": 20,
   "id": "736f9015",
   "metadata": {},
   "outputs": [
    {
     "data": {
      "text/html": [
       "<div>\n",
       "<style scoped>\n",
       "    .dataframe tbody tr th:only-of-type {\n",
       "        vertical-align: middle;\n",
       "    }\n",
       "\n",
       "    .dataframe tbody tr th {\n",
       "        vertical-align: top;\n",
       "    }\n",
       "\n",
       "    .dataframe thead th {\n",
       "        text-align: right;\n",
       "    }\n",
       "</style>\n",
       "<table border=\"1\" class=\"dataframe\">\n",
       "  <thead>\n",
       "    <tr style=\"text-align: right;\">\n",
       "      <th></th>\n",
       "      <th>order_id</th>\n",
       "      <th>quantity</th>\n",
       "      <th>item_price</th>\n",
       "    </tr>\n",
       "  </thead>\n",
       "  <tbody>\n",
       "    <tr>\n",
       "      <th>count</th>\n",
       "      <td>200.000000</td>\n",
       "      <td>200.000000</td>\n",
       "      <td>200.000000</td>\n",
       "    </tr>\n",
       "    <tr>\n",
       "      <th>mean</th>\n",
       "      <td>62.025000</td>\n",
       "      <td>1.060000</td>\n",
       "      <td>8.918400</td>\n",
       "    </tr>\n",
       "    <tr>\n",
       "      <th>std</th>\n",
       "      <td>34.527163</td>\n",
       "      <td>0.238083</td>\n",
       "      <td>3.593724</td>\n",
       "    </tr>\n",
       "    <tr>\n",
       "      <th>min</th>\n",
       "      <td>1.000000</td>\n",
       "      <td>1.000000</td>\n",
       "      <td>1.090000</td>\n",
       "    </tr>\n",
       "    <tr>\n",
       "      <th>25%</th>\n",
       "      <td>30.750000</td>\n",
       "      <td>1.000000</td>\n",
       "      <td>8.490000</td>\n",
       "    </tr>\n",
       "    <tr>\n",
       "      <th>50%</th>\n",
       "      <td>64.500000</td>\n",
       "      <td>1.000000</td>\n",
       "      <td>8.990000</td>\n",
       "    </tr>\n",
       "    <tr>\n",
       "      <th>75%</th>\n",
       "      <td>92.250000</td>\n",
       "      <td>1.000000</td>\n",
       "      <td>10.980000</td>\n",
       "    </tr>\n",
       "    <tr>\n",
       "      <th>max</th>\n",
       "      <td>119.000000</td>\n",
       "      <td>2.000000</td>\n",
       "      <td>22.500000</td>\n",
       "    </tr>\n",
       "  </tbody>\n",
       "</table>\n",
       "</div>"
      ],
      "text/plain": [
       "         order_id    quantity  item_price\n",
       "count  200.000000  200.000000  200.000000\n",
       "mean    62.025000    1.060000    8.918400\n",
       "std     34.527163    0.238083    3.593724\n",
       "min      1.000000    1.000000    1.090000\n",
       "25%     30.750000    1.000000    8.490000\n",
       "50%     64.500000    1.000000    8.990000\n",
       "75%     92.250000    1.000000   10.980000\n",
       "max    119.000000    2.000000   22.500000"
      ]
     },
     "execution_count": 20,
     "metadata": {},
     "output_type": "execute_result"
    }
   ],
   "source": [
    "sales.describe()"
   ]
  },
  {
   "cell_type": "code",
   "execution_count": 22,
   "id": "465b02f3",
   "metadata": {},
   "outputs": [
    {
     "data": {
      "text/html": [
       "<div>\n",
       "<style scoped>\n",
       "    .dataframe tbody tr th:only-of-type {\n",
       "        vertical-align: middle;\n",
       "    }\n",
       "\n",
       "    .dataframe tbody tr th {\n",
       "        vertical-align: top;\n",
       "    }\n",
       "\n",
       "    .dataframe thead th {\n",
       "        text-align: right;\n",
       "    }\n",
       "</style>\n",
       "<table border=\"1\" class=\"dataframe\">\n",
       "  <thead>\n",
       "    <tr style=\"text-align: right;\">\n",
       "      <th></th>\n",
       "      <th>order_id</th>\n",
       "      <th>quantity</th>\n",
       "      <th>item_name</th>\n",
       "      <th>choice_description</th>\n",
       "      <th>item_price</th>\n",
       "    </tr>\n",
       "  </thead>\n",
       "  <tbody>\n",
       "    <tr>\n",
       "      <th>0</th>\n",
       "      <td>1</td>\n",
       "      <td>1</td>\n",
       "      <td>Izze</td>\n",
       "      <td>[Clementine]</td>\n",
       "      <td>3.39</td>\n",
       "    </tr>\n",
       "    <tr>\n",
       "      <th>1</th>\n",
       "      <td>1</td>\n",
       "      <td>1</td>\n",
       "      <td>Nantucket Nectar</td>\n",
       "      <td>[Apple]</td>\n",
       "      <td>3.39</td>\n",
       "    </tr>\n",
       "    <tr>\n",
       "      <th>2</th>\n",
       "      <td>2</td>\n",
       "      <td>2</td>\n",
       "      <td>Chicken Bowl</td>\n",
       "      <td>[Tomatillo-Red Chili Salsa (Hot), [Black Beans...</td>\n",
       "      <td>16.98</td>\n",
       "    </tr>\n",
       "    <tr>\n",
       "      <th>3</th>\n",
       "      <td>3</td>\n",
       "      <td>1</td>\n",
       "      <td>Chicken Bowl</td>\n",
       "      <td>[Fresh Tomato Salsa (Mild), [Rice, Cheese, Sou...</td>\n",
       "      <td>10.98</td>\n",
       "    </tr>\n",
       "    <tr>\n",
       "      <th>4</th>\n",
       "      <td>4</td>\n",
       "      <td>1</td>\n",
       "      <td>Steak Burrito</td>\n",
       "      <td>[Tomatillo Red Chili Salsa, [Fajita Vegetables...</td>\n",
       "      <td>11.75</td>\n",
       "    </tr>\n",
       "    <tr>\n",
       "      <th>5</th>\n",
       "      <td>4</td>\n",
       "      <td>1</td>\n",
       "      <td>Steak Soft Tacos</td>\n",
       "      <td>[Tomatillo Green Chili Salsa, [Pinto Beans, Ch...</td>\n",
       "      <td>9.25</td>\n",
       "    </tr>\n",
       "    <tr>\n",
       "      <th>6</th>\n",
       "      <td>5</td>\n",
       "      <td>1</td>\n",
       "      <td>Steak Burrito</td>\n",
       "      <td>[Fresh Tomato Salsa, [Rice, Black Beans, Pinto...</td>\n",
       "      <td>9.25</td>\n",
       "    </tr>\n",
       "    <tr>\n",
       "      <th>7</th>\n",
       "      <td>6</td>\n",
       "      <td>1</td>\n",
       "      <td>Chicken Crispy Tacos</td>\n",
       "      <td>[Roasted Chili Corn Salsa, [Fajita Vegetables,...</td>\n",
       "      <td>8.75</td>\n",
       "    </tr>\n",
       "    <tr>\n",
       "      <th>8</th>\n",
       "      <td>6</td>\n",
       "      <td>1</td>\n",
       "      <td>Chicken Soft Tacos</td>\n",
       "      <td>[Roasted Chili Corn Salsa, [Rice, Black Beans,...</td>\n",
       "      <td>8.75</td>\n",
       "    </tr>\n",
       "    <tr>\n",
       "      <th>9</th>\n",
       "      <td>7</td>\n",
       "      <td>1</td>\n",
       "      <td>Chicken Bowl</td>\n",
       "      <td>[Fresh Tomato Salsa, [Fajita Vegetables, Rice,...</td>\n",
       "      <td>11.25</td>\n",
       "    </tr>\n",
       "  </tbody>\n",
       "</table>\n",
       "</div>"
      ],
      "text/plain": [
       "   order_id  quantity             item_name  \\\n",
       "0         1         1                  Izze   \n",
       "1         1         1      Nantucket Nectar   \n",
       "2         2         2          Chicken Bowl   \n",
       "3         3         1          Chicken Bowl   \n",
       "4         4         1         Steak Burrito   \n",
       "5         4         1      Steak Soft Tacos   \n",
       "6         5         1         Steak Burrito   \n",
       "7         6         1  Chicken Crispy Tacos   \n",
       "8         6         1    Chicken Soft Tacos   \n",
       "9         7         1          Chicken Bowl   \n",
       "\n",
       "                                  choice_description  item_price  \n",
       "0                                       [Clementine]        3.39  \n",
       "1                                            [Apple]        3.39  \n",
       "2  [Tomatillo-Red Chili Salsa (Hot), [Black Beans...       16.98  \n",
       "3  [Fresh Tomato Salsa (Mild), [Rice, Cheese, Sou...       10.98  \n",
       "4  [Tomatillo Red Chili Salsa, [Fajita Vegetables...       11.75  \n",
       "5  [Tomatillo Green Chili Salsa, [Pinto Beans, Ch...        9.25  \n",
       "6  [Fresh Tomato Salsa, [Rice, Black Beans, Pinto...        9.25  \n",
       "7  [Roasted Chili Corn Salsa, [Fajita Vegetables,...        8.75  \n",
       "8  [Roasted Chili Corn Salsa, [Rice, Black Beans,...        8.75  \n",
       "9  [Fresh Tomato Salsa, [Fajita Vegetables, Rice,...       11.25  "
      ]
     },
     "execution_count": 22,
     "metadata": {},
     "output_type": "execute_result"
    }
   ],
   "source": [
    "sales.head(10)"
   ]
  },
  {
   "cell_type": "code",
   "execution_count": 25,
   "id": "28a267eb",
   "metadata": {},
   "outputs": [
    {
     "data": {
      "text/plain": [
       "60"
      ]
     },
     "execution_count": 25,
     "metadata": {},
     "output_type": "execute_result"
    }
   ],
   "source": [
    "# How many products cost more than 10.00 dollars?\n",
    "sales[sales['item_price']> 10.00].count()['item_name']"
   ]
  },
  {
   "cell_type": "code",
   "execution_count": 26,
   "id": "f2a80700",
   "metadata": {},
   "outputs": [
    {
     "data": {
      "text/plain": [
       "140"
      ]
     },
     "execution_count": 26,
     "metadata": {},
     "output_type": "execute_result"
    }
   ],
   "source": [
    "# How many products cost less than 10.00 dollars?\n",
    "sales[sales['item_price']< 10.00].count()['item_name']"
   ]
  },
  {
   "cell_type": "code",
   "execution_count": 28,
   "id": "47fbd021",
   "metadata": {},
   "outputs": [
    {
     "data": {
      "text/html": [
       "<div>\n",
       "<style scoped>\n",
       "    .dataframe tbody tr th:only-of-type {\n",
       "        vertical-align: middle;\n",
       "    }\n",
       "\n",
       "    .dataframe tbody tr th {\n",
       "        vertical-align: top;\n",
       "    }\n",
       "\n",
       "    .dataframe thead th {\n",
       "        text-align: right;\n",
       "    }\n",
       "</style>\n",
       "<table border=\"1\" class=\"dataframe\">\n",
       "  <thead>\n",
       "    <tr style=\"text-align: right;\">\n",
       "      <th></th>\n",
       "      <th>item_name</th>\n",
       "      <th>item_price</th>\n",
       "    </tr>\n",
       "  </thead>\n",
       "  <tbody>\n",
       "    <tr>\n",
       "      <th>0</th>\n",
       "      <td>Izze</td>\n",
       "      <td>3.39</td>\n",
       "    </tr>\n",
       "    <tr>\n",
       "      <th>1</th>\n",
       "      <td>Nantucket Nectar</td>\n",
       "      <td>3.39</td>\n",
       "    </tr>\n",
       "    <tr>\n",
       "      <th>2</th>\n",
       "      <td>Chicken Bowl</td>\n",
       "      <td>16.98</td>\n",
       "    </tr>\n",
       "    <tr>\n",
       "      <th>3</th>\n",
       "      <td>Chicken Bowl</td>\n",
       "      <td>10.98</td>\n",
       "    </tr>\n",
       "    <tr>\n",
       "      <th>4</th>\n",
       "      <td>Steak Burrito</td>\n",
       "      <td>11.75</td>\n",
       "    </tr>\n",
       "    <tr>\n",
       "      <th>...</th>\n",
       "      <td>...</td>\n",
       "      <td>...</td>\n",
       "    </tr>\n",
       "    <tr>\n",
       "      <th>195</th>\n",
       "      <td>Steak Burrito</td>\n",
       "      <td>8.99</td>\n",
       "    </tr>\n",
       "    <tr>\n",
       "      <th>196</th>\n",
       "      <td>Steak Soft Tacos</td>\n",
       "      <td>9.25</td>\n",
       "    </tr>\n",
       "    <tr>\n",
       "      <th>197</th>\n",
       "      <td>Barbacoa Soft Tacos</td>\n",
       "      <td>8.99</td>\n",
       "    </tr>\n",
       "    <tr>\n",
       "      <th>198</th>\n",
       "      <td>Chicken Burrito</td>\n",
       "      <td>8.49</td>\n",
       "    </tr>\n",
       "    <tr>\n",
       "      <th>199</th>\n",
       "      <td>Chicken Burrito</td>\n",
       "      <td>8.49</td>\n",
       "    </tr>\n",
       "  </tbody>\n",
       "</table>\n",
       "<p>200 rows × 2 columns</p>\n",
       "</div>"
      ],
      "text/plain": [
       "               item_name  item_price\n",
       "0                   Izze        3.39\n",
       "1       Nantucket Nectar        3.39\n",
       "2           Chicken Bowl       16.98\n",
       "3           Chicken Bowl       10.98\n",
       "4          Steak Burrito       11.75\n",
       "..                   ...         ...\n",
       "195        Steak Burrito        8.99\n",
       "196     Steak Soft Tacos        9.25\n",
       "197  Barbacoa Soft Tacos        8.99\n",
       "198      Chicken Burrito        8.49\n",
       "199      Chicken Burrito        8.49\n",
       "\n",
       "[200 rows x 2 columns]"
      ]
     },
     "execution_count": 28,
     "metadata": {},
     "output_type": "execute_result"
    }
   ],
   "source": [
    "# What is the price of each item?\n",
    "sales[['item_name','item_price']]\n"
   ]
  },
  {
   "cell_type": "code",
   "execution_count": 44,
   "id": "ad94c552",
   "metadata": {},
   "outputs": [
    {
     "data": {
      "text/html": [
       "<div>\n",
       "<style scoped>\n",
       "    .dataframe tbody tr th:only-of-type {\n",
       "        vertical-align: middle;\n",
       "    }\n",
       "\n",
       "    .dataframe tbody tr th {\n",
       "        vertical-align: top;\n",
       "    }\n",
       "\n",
       "    .dataframe thead th {\n",
       "        text-align: right;\n",
       "    }\n",
       "</style>\n",
       "<table border=\"1\" class=\"dataframe\">\n",
       "  <thead>\n",
       "    <tr style=\"text-align: right;\">\n",
       "      <th></th>\n",
       "      <th>order_id</th>\n",
       "      <th>quantity</th>\n",
       "      <th>item_name</th>\n",
       "      <th>choice_description</th>\n",
       "      <th>item_price</th>\n",
       "    </tr>\n",
       "  </thead>\n",
       "  <tbody>\n",
       "    <tr>\n",
       "      <th>41</th>\n",
       "      <td>27</td>\n",
       "      <td>1</td>\n",
       "      <td>Barbacoa Bowl</td>\n",
       "      <td>[Roasted Chili Corn Salsa, [Fajita Vegetables,...</td>\n",
       "      <td>11.75</td>\n",
       "    </tr>\n",
       "    <tr>\n",
       "      <th>95</th>\n",
       "      <td>61</td>\n",
       "      <td>1</td>\n",
       "      <td>Barbacoa Bowl</td>\n",
       "      <td>[Tomatillo Red Chili Salsa, [Fajita Vegetables...</td>\n",
       "      <td>11.75</td>\n",
       "    </tr>\n",
       "    <tr>\n",
       "      <th>90</th>\n",
       "      <td>56</td>\n",
       "      <td>1</td>\n",
       "      <td>Barbacoa Bowl</td>\n",
       "      <td>[Tomatillo Red Chili Salsa, [Rice, Pinto Beans...</td>\n",
       "      <td>9.25</td>\n",
       "    </tr>\n",
       "    <tr>\n",
       "      <th>26</th>\n",
       "      <td>19</td>\n",
       "      <td>1</td>\n",
       "      <td>Barbacoa Bowl</td>\n",
       "      <td>[Roasted Chili Corn Salsa, [Fajita Vegetables,...</td>\n",
       "      <td>11.75</td>\n",
       "    </tr>\n",
       "    <tr>\n",
       "      <th>185</th>\n",
       "      <td>110</td>\n",
       "      <td>1</td>\n",
       "      <td>Barbacoa Bowl</td>\n",
       "      <td>[Tomatillo Red Chili Salsa, [Rice, Cheese, Let...</td>\n",
       "      <td>9.25</td>\n",
       "    </tr>\n",
       "    <tr>\n",
       "      <th>...</th>\n",
       "      <td>...</td>\n",
       "      <td>...</td>\n",
       "      <td>...</td>\n",
       "      <td>...</td>\n",
       "      <td>...</td>\n",
       "    </tr>\n",
       "    <tr>\n",
       "      <th>184</th>\n",
       "      <td>110</td>\n",
       "      <td>1</td>\n",
       "      <td>Veggie Bowl</td>\n",
       "      <td>[Roasted Chili Corn Salsa, [Rice, Pinto Beans,...</td>\n",
       "      <td>8.75</td>\n",
       "    </tr>\n",
       "    <tr>\n",
       "      <th>162</th>\n",
       "      <td>99</td>\n",
       "      <td>1</td>\n",
       "      <td>Veggie Burrito</td>\n",
       "      <td>[Tomatillo Red Chili Salsa, [Black Beans, Chee...</td>\n",
       "      <td>11.25</td>\n",
       "    </tr>\n",
       "    <tr>\n",
       "      <th>40</th>\n",
       "      <td>26</td>\n",
       "      <td>1</td>\n",
       "      <td>Veggie Burrito</td>\n",
       "      <td>[Tomatillo Red Chili Salsa, [Fajita Vegetables...</td>\n",
       "      <td>11.25</td>\n",
       "    </tr>\n",
       "    <tr>\n",
       "      <th>74</th>\n",
       "      <td>46</td>\n",
       "      <td>1</td>\n",
       "      <td>Veggie Burrito</td>\n",
       "      <td>[Fresh Tomato Salsa (Mild), [Black Beans, Rice...</td>\n",
       "      <td>8.49</td>\n",
       "    </tr>\n",
       "    <tr>\n",
       "      <th>132</th>\n",
       "      <td>83</td>\n",
       "      <td>1</td>\n",
       "      <td>Veggie Salad Bowl</td>\n",
       "      <td>[Fresh Tomato Salsa, [Fajita Vegetables, Rice,...</td>\n",
       "      <td>11.25</td>\n",
       "    </tr>\n",
       "  </tbody>\n",
       "</table>\n",
       "<p>200 rows × 5 columns</p>\n",
       "</div>"
      ],
      "text/plain": [
       "     order_id  quantity          item_name  \\\n",
       "41         27         1      Barbacoa Bowl   \n",
       "95         61         1      Barbacoa Bowl   \n",
       "90         56         1      Barbacoa Bowl   \n",
       "26         19         1      Barbacoa Bowl   \n",
       "185       110         1      Barbacoa Bowl   \n",
       "..        ...       ...                ...   \n",
       "184       110         1        Veggie Bowl   \n",
       "162        99         1     Veggie Burrito   \n",
       "40         26         1     Veggie Burrito   \n",
       "74         46         1     Veggie Burrito   \n",
       "132        83         1  Veggie Salad Bowl   \n",
       "\n",
       "                                    choice_description  item_price  \n",
       "41   [Roasted Chili Corn Salsa, [Fajita Vegetables,...       11.75  \n",
       "95   [Tomatillo Red Chili Salsa, [Fajita Vegetables...       11.75  \n",
       "90   [Tomatillo Red Chili Salsa, [Rice, Pinto Beans...        9.25  \n",
       "26   [Roasted Chili Corn Salsa, [Fajita Vegetables,...       11.75  \n",
       "185  [Tomatillo Red Chili Salsa, [Rice, Cheese, Let...        9.25  \n",
       "..                                                 ...         ...  \n",
       "184  [Roasted Chili Corn Salsa, [Rice, Pinto Beans,...        8.75  \n",
       "162  [Tomatillo Red Chili Salsa, [Black Beans, Chee...       11.25  \n",
       "40   [Tomatillo Red Chili Salsa, [Fajita Vegetables...       11.25  \n",
       "74   [Fresh Tomato Salsa (Mild), [Black Beans, Rice...        8.49  \n",
       "132  [Fresh Tomato Salsa, [Fajita Vegetables, Rice,...       11.25  \n",
       "\n",
       "[200 rows x 5 columns]"
      ]
     },
     "execution_count": 44,
     "metadata": {},
     "output_type": "execute_result"
    }
   ],
   "source": [
    "# Sort the products by the name of the item\n",
    "sales.sort_values('item_name')"
   ]
  },
  {
   "cell_type": "code",
   "execution_count": 43,
   "id": "35709f31",
   "metadata": {},
   "outputs": [
    {
     "data": {
      "text/html": [
       "<div>\n",
       "<style scoped>\n",
       "    .dataframe tbody tr th:only-of-type {\n",
       "        vertical-align: middle;\n",
       "    }\n",
       "\n",
       "    .dataframe tbody tr th {\n",
       "        vertical-align: top;\n",
       "    }\n",
       "\n",
       "    .dataframe thead th {\n",
       "        text-align: right;\n",
       "    }\n",
       "</style>\n",
       "<table border=\"1\" class=\"dataframe\">\n",
       "  <thead>\n",
       "    <tr style=\"text-align: right;\">\n",
       "      <th></th>\n",
       "      <th>order_id</th>\n",
       "      <th>quantity</th>\n",
       "      <th>item_name</th>\n",
       "      <th>choice_description</th>\n",
       "      <th>item_price</th>\n",
       "    </tr>\n",
       "  </thead>\n",
       "  <tbody>\n",
       "    <tr>\n",
       "      <th>153</th>\n",
       "      <td>94</td>\n",
       "      <td>2</td>\n",
       "      <td>Chicken Salad Bowl</td>\n",
       "      <td>[Fresh Tomato Salsa, [Fajita Vegetables, Pinto...</td>\n",
       "      <td>22.5</td>\n",
       "    </tr>\n",
       "  </tbody>\n",
       "</table>\n",
       "</div>"
      ],
      "text/plain": [
       "     order_id  quantity           item_name  \\\n",
       "153        94         2  Chicken Salad Bowl   \n",
       "\n",
       "                                    choice_description  item_price  \n",
       "153  [Fresh Tomato Salsa, [Fajita Vegetables, Pinto...        22.5  "
      ]
     },
     "execution_count": 43,
     "metadata": {},
     "output_type": "execute_result"
    }
   ],
   "source": [
    "# What was the quantity of the most expensive item ordered?\n",
    "sales.sort_values(['item_price'], ascending = False).head(1)\n",
    "\n"
   ]
  },
  {
   "cell_type": "code",
   "execution_count": 47,
   "id": "fe39acae",
   "metadata": {},
   "outputs": [
    {
     "data": {
      "text/plain": [
       "39"
      ]
     },
     "execution_count": 47,
     "metadata": {},
     "output_type": "execute_result"
    }
   ],
   "source": [
    "# How many times was a chicken Burrito ordered?\n",
    "sales[sales['item_name'] == 'Chicken Burrito'].count()['order_id']"
   ]
  },
  {
   "cell_type": "code",
   "execution_count": 50,
   "id": "b5a8355b",
   "metadata": {},
   "outputs": [],
   "source": [
    "# how many times did someone order more than one Canned Soda\n",
    "Soda = sales[sales['item_name']== 'Canned Soda']"
   ]
  },
  {
   "cell_type": "code",
   "execution_count": 61,
   "id": "5f4aba6c",
   "metadata": {},
   "outputs": [
    {
     "data": {
      "text/plain": [
       "4"
      ]
     },
     "execution_count": 61,
     "metadata": {},
     "output_type": "execute_result"
    }
   ],
   "source": [
    "Soda.loc[Soda['quantity']> 1, 'quantity'].count()"
   ]
  },
  {
   "cell_type": "code",
   "execution_count": 63,
   "id": "748fd043",
   "metadata": {},
   "outputs": [],
   "source": [
    "# total sales generated by each product\n",
    "sales_group = sales.groupby('item_name').sum('item_price')['item_price']"
   ]
  },
  {
   "cell_type": "code",
   "execution_count": 68,
   "id": "b7332fdc",
   "metadata": {},
   "outputs": [
    {
     "data": {
      "text/plain": [
       "item_name\n",
       "Barbacoa Bowl             81.24\n",
       "Barbacoa Burrito          69.23\n",
       "Barbacoa Crispy Tacos     21.00\n",
       "Barbacoa Soft Tacos       27.49\n",
       "Canned Soda               25.07\n",
       "Canned Soft Drink          1.25\n",
       "Carnitas Bowl             41.47\n",
       "Carnitas Burrito          39.24\n",
       "Carnitas Soft Tacos        9.25\n",
       "Chicken Bowl             296.90\n",
       "Chicken Burrito          377.17\n",
       "Chicken Crispy Tacos      26.25\n",
       "Chicken Salad             10.98\n",
       "Chicken Salad Bowl        62.50\n",
       "Chicken Soft Tacos        46.25\n",
       "Izze                      13.56\n",
       "Nantucket Nectar          16.95\n",
       "Steak Bowl               121.93\n",
       "Steak Burrito            289.26\n",
       "Steak Crispy Tacos         9.25\n",
       "Steak Soft Tacos          73.22\n",
       "Veggie Bowl               81.98\n",
       "Veggie Burrito            30.99\n",
       "Veggie Salad Bowl         11.25\n",
       "Name: item_price, dtype: float64"
      ]
     },
     "execution_count": 68,
     "metadata": {},
     "output_type": "execute_result"
    }
   ],
   "source": [
    "sales_group"
   ]
  },
  {
   "cell_type": "code",
   "execution_count": 66,
   "id": "1e276d4f",
   "metadata": {},
   "outputs": [
    {
     "data": {
      "text/plain": [
       "24"
      ]
     },
     "execution_count": 66,
     "metadata": {},
     "output_type": "execute_result"
    }
   ],
   "source": [
    "# amount of unique products\n",
    "sales_group.count()\n"
   ]
  },
  {
   "cell_type": "code",
   "execution_count": 67,
   "id": "32f4996a",
   "metadata": {},
   "outputs": [
    {
     "data": {
      "text/plain": [
       "<AxesSubplot:xlabel='item_name'>"
      ]
     },
     "execution_count": 67,
     "metadata": {},
     "output_type": "execute_result"
    },
    {
     "data": {
      "image/png": "[encoded data removed]",
      "text/plain": [
       "<Figure size 432x288 with 1 Axes>"
      ]
     },
     "metadata": {
      "needs_background": "light"
     },
     "output_type": "display_data"
    }
   ],
   "source": [
    "sales_group.plot(kind = 'bar')"
   ]
  },
  {
   "cell_type": "markdown",
   "id": "27aa441a",
   "metadata": {},
   "source": [
    "* From the bar chart it is obvious that chicken Burrito generated the most sales\n",
    "* Canned soft drinks generated the least sales"
   ]
  },
  {
   "cell_type": "code",
   "execution_count": 73,
   "id": "65f30979",
   "metadata": {},
   "outputs": [
    {
     "data": {
      "text/plain": [
       "<AxesSubplot:xlabel='item_name'>"
      ]
     },
     "execution_count": 73,
     "metadata": {},
     "output_type": "execute_result"
    },
    {
     "data": {
      "image/png": "[encoded data removed]",
      "text/plain": [
       "<Figure size 432x288 with 1 Axes>"
      ]
     },
     "metadata": {
      "needs_background": "light"
     },
     "output_type": "display_data"
    }
   ],
   "source": [
    "# a bar chart showing the total quantity of sales of each product\n",
    "sales.groupby('item_name').sum('item_price')['quantity'].plot(kind = 'bar')"
   ]
  },
  {
   "cell_type": "code",
   "execution_count": null,
   "id": "1b764e6b",
   "metadata": {},
   "outputs": [],
   "source": []
  }
 ],
 "metadata": {
  "kernelspec": {
   "display_name": "Python 3",
   "language": "python",
   "name": "python3"
  },
  "language_info": {
   "codemirror_mode": {
    "name": "ipython",
    "version": 3
   },
   "file_extension": ".py",
   "mimetype": "text/x-python",
   "name": "python",
   "nbconvert_exporter": "python",
   "pygments_lexer": "ipython3",
   "version": "3.8.8"
  }
 },
 "nbformat": 4,
 "nbformat_minor": 5
}
